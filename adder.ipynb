def Adder (x,y):
  return x+y


print ("the sum of 7+8 is:", Adder(7,8))
